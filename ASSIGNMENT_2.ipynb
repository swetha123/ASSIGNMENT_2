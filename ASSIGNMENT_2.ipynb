{
 "cells": [
  {
   "cell_type": "markdown",
   "id": "35a26c4f",
   "metadata": {},
   "source": [
    "1.What are the two values of the Boolean data type? How do you write them?\n",
    "\n",
    "Ans - 2 types of boolean data type  - True and False\n",
    "      ex: a = True , b = False"
   ]
  },
  {
   "cell_type": "markdown",
   "id": "0e41f266",
   "metadata": {},
   "source": [
    "2. What are the three different types of Boolean operators?\n",
    "\n",
    "Ans - 3 types of boolean operators - AND , OR , NOT"
   ]
  },
  {
   "cell_type": "markdown",
   "id": "d27dfdc7",
   "metadata": {},
   "source": [
    "3. Make a list of each Boolean operator's truth tables (i.e. every possible combination of Boolean values for the operator and what it evaluate \n",
    "\n",
    "Ans - boolean operators truth table \n",
    "\n",
    "    1 - AND operator \n",
    "        True AND True = True\n",
    "        True AND False = False\n",
    "        False AND True = False\n",
    "        False AND False = False\n",
    "        \n",
    "    2 - OR operator \n",
    "        True OR True = True\n",
    "        True OR False = True\n",
    "        False OR True = True\n",
    "        False OR False = False\n",
    "        \n",
    "    3 - NOT operator\n",
    "        Not True = False\n",
    "        Not False = True"
   ]
  },
  {
   "cell_type": "markdown",
   "id": "95d94cd3",
   "metadata": {},
   "source": [
    "4. What are the values of the following expressions?"
   ]
  },
  {
   "cell_type": "code",
   "execution_count": 3,
   "id": "bbefb35b",
   "metadata": {},
   "outputs": [
    {
     "data": {
      "text/plain": [
       "False"
      ]
     },
     "execution_count": 3,
     "metadata": {},
     "output_type": "execute_result"
    }
   ],
   "source": [
    "(5 > 4) and (3 == 5)\n",
    "\n",
    "# 5 is greater than 4 = true , 3 is not equal to 5 = false ==>  true and false = false"
   ]
  },
  {
   "cell_type": "code",
   "execution_count": 9,
   "id": "ce2b3574",
   "metadata": {},
   "outputs": [
    {
     "data": {
      "text/plain": [
       "False"
      ]
     },
     "execution_count": 9,
     "metadata": {},
     "output_type": "execute_result"
    }
   ],
   "source": [
    "not (5 > 4)\n",
    "# 5 is greater than 4 so it is true , not true = False"
   ]
  },
  {
   "cell_type": "code",
   "execution_count": 10,
   "id": "10851a04",
   "metadata": {},
   "outputs": [
    {
     "data": {
      "text/plain": [
       "True"
      ]
     },
     "execution_count": 10,
     "metadata": {},
     "output_type": "execute_result"
    }
   ],
   "source": [
    "(5 > 4) or (3 == 5)\n",
    "# true or false = true"
   ]
  },
  {
   "cell_type": "code",
   "execution_count": 12,
   "id": "5747409e",
   "metadata": {},
   "outputs": [
    {
     "data": {
      "text/plain": [
       "False"
      ]
     },
     "execution_count": 12,
     "metadata": {},
     "output_type": "execute_result"
    }
   ],
   "source": [
    "not ((5 > 4) or (3 == 5))\n",
    "#not of true or false ==> not of true = false"
   ]
  },
  {
   "cell_type": "code",
   "execution_count": 13,
   "id": "75862bd1",
   "metadata": {},
   "outputs": [
    {
     "data": {
      "text/plain": [
       "False"
      ]
     },
     "execution_count": 13,
     "metadata": {},
     "output_type": "execute_result"
    }
   ],
   "source": [
    "(True and True) and (True == False)\n",
    "# true and false = false"
   ]
  },
  {
   "cell_type": "code",
   "execution_count": 15,
   "id": "9f04c064",
   "metadata": {},
   "outputs": [
    {
     "data": {
      "text/plain": [
       "True"
      ]
     },
     "execution_count": 15,
     "metadata": {},
     "output_type": "execute_result"
    }
   ],
   "source": [
    "(not False) or (not True)\n",
    "#true or false = true"
   ]
  },
  {
   "cell_type": "markdown",
   "id": "eed37fc6",
   "metadata": {},
   "source": [
    "5. What are the six comparison operators?\n",
    "\n",
    "Ans -  6 comparison operators\n",
    "\n",
    "       1. less than  - <\n",
    "       \n",
    "       2. more than  - >\n",
    "       \n",
    "       3. less than or equal to  - <=\n",
    "       \n",
    "       4. equal to or more than  -  >=\n",
    "       \n",
    "       5. equal to  - ==\n",
    "       \n",
    "       6. not equal to - !="
   ]
  },
  {
   "cell_type": "markdown",
   "id": "b6b9a41d",
   "metadata": {},
   "source": [
    "6. How do you tell the difference between the equal to and assignment operators?Describe a condition and when you would use one\n",
    "\n",
    "Ans - equal to operator is used to compare 2 values whether they are equal or not . equal to operator is used in conditions , but assignment operator assigns a value to a variable and is used as statement.ex:"
   ]
  },
  {
   "cell_type": "code",
   "execution_count": 19,
   "id": "1affd668",
   "metadata": {},
   "outputs": [
    {
     "name": "stdout",
     "output_type": "stream",
     "text": [
      "200\n"
     ]
    }
   ],
   "source": [
    "var1 = 100 \n",
    "if var1 == 100:\n",
    "     var1 = var1*2\n",
    "print(var1)\n",
    "\n",
    "# here the first line of code corresponds to an assignment statement . the = operator is assigning 100 value to variable var1.\n",
    "# in the second line of code we are comparing whether value stored in var1 is equal to 100 or not.for that we are using == operator"
   ]
  },
  {
   "cell_type": "markdown",
   "id": "e77673af",
   "metadata": {},
   "source": [
    "7. Identify the three blocks in this code"
   ]
  },
  {
   "cell_type": "code",
   "execution_count": 23,
   "id": "5b94a9c0",
   "metadata": {},
   "outputs": [
    {
     "name": "stdout",
     "output_type": "stream",
     "text": [
      "ham\n",
      "spam\n",
      "spam\n"
     ]
    }
   ],
   "source": [
    "spam = 0\n",
    "if spam == 10:\n",
    "    print('eggs')\n",
    "# 1st block   \n",
    "if spam > 5:\n",
    "    print('bacon')\n",
    "# 2nd block\n",
    "else:\n",
    "    print('ham')\n",
    "    print('spam')\n",
    "    print('spam')\n",
    "# 3rd block\n",
    "\n"
   ]
  },
  {
   "cell_type": "markdown",
   "id": "8e956260",
   "metadata": {},
   "source": [
    "8. Write code that prints Hello if 1 is stored in spam, prints Howdy if 2 is stored in spam, and prints Greetings! if anything else is stored in spam"
   ]
  },
  {
   "cell_type": "code",
   "execution_count": 26,
   "id": "d61b57e2",
   "metadata": {},
   "outputs": [
    {
     "name": "stdout",
     "output_type": "stream",
     "text": [
      "enter a integer number: 54\n",
      "Greetings\n"
     ]
    }
   ],
   "source": [
    "spam = int(input(\"enter a integer number: \")) \n",
    "if spam == 1 :\n",
    "    print(\"Hello\")\n",
    "elif spam == 2 :\n",
    "    print(\"Howdy\")\n",
    "else:\n",
    "    print(\"Greetings\")"
   ]
  },
  {
   "cell_type": "markdown",
   "id": "788d960e",
   "metadata": {},
   "source": [
    "9.If your programme is stuck in an endless loop, what keys you’ll press?\n",
    "\n",
    "Ans - CTRL + c"
   ]
  },
  {
   "cell_type": "markdown",
   "id": "ed282bed",
   "metadata": {},
   "source": [
    "10. How can you tell the difference between break and continue?\n",
    "\n",
    "Ans - break keyword is used to stop the entire iteration of the loop and comes out of that loop. but continue keyword will only stop the particular iteration of the loop and continue with the next iteration being in the loop."
   ]
  },
  {
   "cell_type": "code",
   "execution_count": 30,
   "id": "44182dcd",
   "metadata": {},
   "outputs": [
    {
     "name": "stdout",
     "output_type": "stream",
     "text": [
      "0\n",
      "1\n",
      "2\n",
      "3\n",
      "4\n",
      "6\n",
      "7\n",
      "8\n",
      "9\n"
     ]
    }
   ],
   "source": [
    "# example for continue keyword\n",
    "for i in range(10):\n",
    "    if (i == 5):\n",
    "        continue\n",
    "    print(i)"
   ]
  },
  {
   "cell_type": "code",
   "execution_count": 31,
   "id": "cd145fa0",
   "metadata": {},
   "outputs": [
    {
     "name": "stdout",
     "output_type": "stream",
     "text": [
      "0\n",
      "1\n",
      "2\n",
      "3\n",
      "4\n"
     ]
    }
   ],
   "source": [
    "#an example for break keyword\n",
    "for i in range(10):\n",
    "    if (i == 5):\n",
    "        break\n",
    "    print(i)"
   ]
  },
  {
   "cell_type": "markdown",
   "id": "df7e9d5a",
   "metadata": {},
   "source": [
    "11. In a for loop, what is the difference between range(10), range(0, 10), and range(0, 10, 1)?\n",
    "\n",
    "Ans - range (10) - by default the start point for range will be taken as 0 and continues till 9 leaving the upperbound 10.\n",
    "      range (0,10) - specifically  the start point for range is mentioned as 0 and continues till 9 leaving the upperbound 10.\n",
    "      range (0,10,1) - specifically the start point for range is 0 and continues till 9 with distance between each range value as 1 leaving the upperbound 10."
   ]
  },
  {
   "cell_type": "code",
   "execution_count": 35,
   "id": "3eea0eb4",
   "metadata": {},
   "outputs": [
    {
     "data": {
      "text/plain": [
       "[0, 1, 2, 3, 4, 5, 6, 7, 8, 9]"
      ]
     },
     "execution_count": 35,
     "metadata": {},
     "output_type": "execute_result"
    }
   ],
   "source": [
    "range(10)\n",
    "list(range(10))"
   ]
  },
  {
   "cell_type": "code",
   "execution_count": 37,
   "id": "ea62bbcd",
   "metadata": {},
   "outputs": [
    {
     "data": {
      "text/plain": [
       "[0, 1, 2, 3, 4, 5, 6, 7, 8, 9]"
      ]
     },
     "execution_count": 37,
     "metadata": {},
     "output_type": "execute_result"
    }
   ],
   "source": [
    "range(0,10)\n",
    "list(range(0,10))"
   ]
  },
  {
   "cell_type": "code",
   "execution_count": 36,
   "id": "ee7777df",
   "metadata": {},
   "outputs": [
    {
     "data": {
      "text/plain": [
       "[0, 1, 2, 3, 4, 5, 6, 7, 8, 9]"
      ]
     },
     "execution_count": 36,
     "metadata": {},
     "output_type": "execute_result"
    }
   ],
   "source": [
    "range(0,10,1)\n",
    "list(range(0,10,1))"
   ]
  },
  {
   "cell_type": "markdown",
   "id": "a0af8798",
   "metadata": {},
   "source": [
    "12. Write a short program that prints the numbers 1 to 10 using a for loop. Then write an equivalent program that prints the numbers 1 to 10 using a while loop"
   ]
  },
  {
   "cell_type": "code",
   "execution_count": 38,
   "id": "8e861096",
   "metadata": {},
   "outputs": [
    {
     "name": "stdout",
     "output_type": "stream",
     "text": [
      "1\n",
      "2\n",
      "3\n",
      "4\n",
      "5\n",
      "6\n",
      "7\n",
      "8\n",
      "9\n",
      "10\n"
     ]
    }
   ],
   "source": [
    "for i in range(1,11):\n",
    "    print(i)"
   ]
  },
  {
   "cell_type": "code",
   "execution_count": 40,
   "id": "693cd8b4",
   "metadata": {},
   "outputs": [
    {
     "name": "stdout",
     "output_type": "stream",
     "text": [
      "1\n",
      "2\n",
      "3\n",
      "4\n",
      "5\n",
      "6\n",
      "7\n",
      "8\n",
      "9\n",
      "10\n"
     ]
    }
   ],
   "source": [
    "a = 1\n",
    "while a<=10:\n",
    "    print(a)\n",
    "    a = a+1"
   ]
  },
  {
   "cell_type": "markdown",
   "id": "89574eb8",
   "metadata": {},
   "source": [
    "13. If you had a function named bacon() inside a module named spam, how would you call it after importing spam?\n",
    "\n",
    "Ans - spam.bacon()"
   ]
  },
  {
   "cell_type": "code",
   "execution_count": null,
   "id": "02c7d1ad",
   "metadata": {},
   "outputs": [],
   "source": []
  }
 ],
 "metadata": {
  "kernelspec": {
   "display_name": "Python 3 (ipykernel)",
   "language": "python",
   "name": "python3"
  },
  "language_info": {
   "codemirror_mode": {
    "name": "ipython",
    "version": 3
   },
   "file_extension": ".py",
   "mimetype": "text/x-python",
   "name": "python",
   "nbconvert_exporter": "python",
   "pygments_lexer": "ipython3",
   "version": "3.10.9"
  }
 },
 "nbformat": 4,
 "nbformat_minor": 5
}
